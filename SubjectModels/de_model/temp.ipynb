{
 "cells": [
  {
   "cell_type": "code",
   "execution_count": 4,
   "id": "d7b51dc8",
   "metadata": {},
   "outputs": [],
   "source": [
    "import json\n",
    "import re\n",
    "\n",
    "with open(\"de_eda.ipynb\", \"r\", encoding=\"utf-8\") as f:\n",
    "    notebook = json.load(f)\n",
    "\n",
    "old_text = \"Math-3 Theory\"\n",
    "new_text = \"sdfsd#@###3DDDfsa\"\n",
    "pattern = re.compile(re.escape(old_text), re.IGNORECASE)\n",
    "\n",
    "for cell in notebook[\"cells\"]:\n",
    "    if cell[\"cell_type\"] in (\"code\", \"markdown\"):\n",
    "        cell[\"source\"] = [pattern.sub(new_text, line) for line in cell[\"source\"]]\n",
    "\n",
    "with open(\"de_eda.ipynb\", \"w\", encoding=\"utf-8\") as f:\n",
    "    json.dump(notebook, f, indent=1, ensure_ascii=False)\n"
   ]
  },
  {
   "cell_type": "code",
   "execution_count": 5,
   "id": "129384fc",
   "metadata": {},
   "outputs": [],
   "source": [
    "import json\n",
    "import re\n",
    "\n",
    "with open(\"de_eda.ipynb\", \"r\", encoding=\"utf-8\") as f:\n",
    "    notebook = json.load(f)\n",
    "\n",
    "old_text = \"DE Theory\"\n",
    "new_text = \"Math-3 Theory\"\n",
    "pattern = re.compile(re.escape(old_text), re.IGNORECASE)\n",
    "\n",
    "for cell in notebook[\"cells\"]:\n",
    "    if cell[\"cell_type\"] in (\"code\", \"markdown\"):\n",
    "        cell[\"source\"] = [pattern.sub(new_text, line) for line in cell[\"source\"]]\n",
    "\n",
    "with open(\"de_eda.ipynb\", \"w\", encoding=\"utf-8\") as f:\n",
    "    json.dump(notebook, f, indent=1, ensure_ascii=False)\n"
   ]
  },
  {
   "cell_type": "code",
   "execution_count": 6,
   "id": "213506b1",
   "metadata": {},
   "outputs": [],
   "source": [
    "import json\n",
    "import re\n",
    "\n",
    "with open(\"de_eda.ipynb\", \"r\", encoding=\"utf-8\") as f:\n",
    "    notebook = json.load(f)\n",
    "\n",
    "old_text = \"sdfsd#@###3DDDfsa\"\n",
    "new_text = \"DE Theory\"\n",
    "pattern = re.compile(re.escape(old_text), re.IGNORECASE)\n",
    "\n",
    "for cell in notebook[\"cells\"]:\n",
    "    if cell[\"cell_type\"] in (\"code\", \"markdown\"):\n",
    "        cell[\"source\"] = [pattern.sub(new_text, line) for line in cell[\"source\"]]\n",
    "\n",
    "with open(\"de_eda.ipynb\", \"w\", encoding=\"utf-8\") as f:\n",
    "    json.dump(notebook, f, indent=1, ensure_ascii=False)\n"
   ]
  },
  {
   "cell_type": "code",
   "execution_count": null,
   "id": "b76bb609",
   "metadata": {},
   "outputs": [],
   "source": []
  }
 ],
 "metadata": {
  "kernelspec": {
   "display_name": "Python 3",
   "language": "python",
   "name": "python3"
  },
  "language_info": {
   "codemirror_mode": {
    "name": "ipython",
    "version": 3
   },
   "file_extension": ".py",
   "mimetype": "text/x-python",
   "name": "python",
   "nbconvert_exporter": "python",
   "pygments_lexer": "ipython3",
   "version": "3.12.10"
  }
 },
 "nbformat": 4,
 "nbformat_minor": 5
}
