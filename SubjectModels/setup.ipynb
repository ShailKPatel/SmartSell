{
 "cells": [
  {
   "cell_type": "markdown",
   "id": "4c08c6fd",
   "metadata": {},
   "source": [
    "# train-test split"
   ]
  },
  {
   "cell_type": "code",
   "execution_count": 2,
   "id": "70f24b35",
   "metadata": {},
   "outputs": [
    {
     "name": "stdout",
     "output_type": "stream",
     "text": [
      "Training set shape: (724, 52) (80.0%)\n",
      "Testing set shape: (181, 52) (20.0%)\n",
      "Train and test datasets saved as 'train_dataset.csv' and 'test_dataset.csv'\n"
     ]
    }
   ],
   "source": [
    "import pandas as pd\n",
    "from sklearn.model_selection import train_test_split\n",
    "\n",
    "# Load the dataset\n",
    "df = pd.read_csv('student_performance_dataset.csv')\n",
    "\n",
    "# Perform 80-20 train-test split\n",
    "train_df, test_df = train_test_split(df, test_size=0.2, random_state=42)\n",
    "\n",
    "# Verify the split\n",
    "print(f\"Training set shape: {train_df.shape} ({len(train_df)/len(df)*100:.1f}%)\")\n",
    "print(f\"Testing set shape: {test_df.shape} ({len(test_df)/len(df)*100:.1f}%)\")\n",
    "\n",
    "# Save the splits to CSV files\n",
    "train_df.to_csv('train_dataset.csv', index=False)\n",
    "test_df.to_csv('test_dataset.csv', index=False)\n",
    "print(\"Train and test datasets saved as 'train_dataset.csv' and 'test_dataset.csv'\")"
   ]
  },
  {
   "cell_type": "code",
   "execution_count": 3,
   "id": "8eabd60d",
   "metadata": {},
   "outputs": [
    {
     "name": "stdout",
     "output_type": "stream",
     "text": [
      "Saved math_train_data.csv in math_model/\n",
      "Created math_eda.ipynb in math_model/\n",
      "Saved de_train_data.csv in de_model/\n",
      "Created de_eda.ipynb in de_model/\n",
      "Saved fsd_train_data.csv in fsd_model/\n",
      "Created fsd_eda.ipynb in fsd_model/\n",
      "Saved python_train_data.csv in python_model/\n",
      "Created python_eda.ipynb in python_model/\n",
      "Processing complete. Four folders created with respective CSV files and EDA notebooks.\n"
     ]
    }
   ],
   "source": [
    "import pandas as pd\n",
    "import os\n",
    "from nbformat import v4 as nbformat_v4\n",
    "from nbformat import write as nb_write\n",
    "\n",
    "# Load the training dataset\n",
    "train_df = pd.read_csv('train_dataset.csv')\n",
    "\n",
    "# List of columns to drop (unnecessary for modeling)\n",
    "columns_to_drop = [\n",
    "    'Student ID', 'Div-1', 'Div-2', 'Div-3', \n",
    "    'Mentor-1', 'Mentor-2', 'Mentor-3', \n",
    "    'Communication Theory', 'Law Theory', \n",
    "    'DE Practical', 'FSD Practical', 'Python Practical'\n",
    "]\n",
    "\n",
    "# Drop unnecessary columns\n",
    "train_df_cleaned = train_df.drop(columns=columns_to_drop, errors='ignore')\n",
    "\n",
    "# Define the four subjects and their theory columns\n",
    "subjects = {\n",
    "    'math': 'Math-3 Theory',\n",
    "    'de': 'DE Theory',\n",
    "    'fsd': 'FSD Theory',\n",
    "    'python': 'Python Theory'\n",
    "}\n",
    "\n",
    "# Create folders and process data for each subject\n",
    "for subject, target_column in subjects.items():\n",
    "    # Create folder for the subject\n",
    "    folder_name = f\"{subject}_model\"\n",
    "    os.makedirs(folder_name, exist_ok=True)\n",
    "    \n",
    "    # Store the target column in temporary storage (e.g., variable)\n",
    "    temp_target = train_df_cleaned[target_column].copy()\n",
    "    \n",
    "    # Create a new DataFrame for the subject\n",
    "    # Drop the other three subjects' theory columns to avoid leakage\n",
    "    other_subjects = [col for col in subjects.values() if col != target_column]\n",
    "    subject_df = train_df_cleaned.drop(columns=other_subjects, errors='ignore')\n",
    "    \n",
    "    # Add target column 'Y' with the subject's theory marks\n",
    "    subject_df['Y'] = temp_target\n",
    "    \n",
    "    # Save the DataFrame to a CSV file in the subject's folder\n",
    "    csv_path = os.path.join(folder_name, f\"{subject}_train_data.csv\")\n",
    "    subject_df.to_csv(csv_path, index=False)\n",
    "    print(f\"Saved {subject}_train_data.csv in {folder_name}/\")\n",
    "    \n",
    "    # Create an empty Jupyter Notebook for EDA\n",
    "    nb = nbformat_v4.new_notebook()\n",
    "    nb_path = os.path.join(folder_name, f\"{subject}_eda.ipynb\")\n",
    "    with open(nb_path, 'w') as f:\n",
    "        nb_write(nb, f)\n",
    "    print(f\"Created {subject}_eda.ipynb in {folder_name}/\")\n",
    "\n",
    "print(\"Processing complete. Four folders created with respective CSV files and EDA notebooks.\")"
   ]
  },
  {
   "cell_type": "code",
   "execution_count": null,
   "id": "b738dac5",
   "metadata": {},
   "outputs": [],
   "source": []
  }
 ],
 "metadata": {
  "kernelspec": {
   "display_name": "Python 3",
   "language": "python",
   "name": "python3"
  },
  "language_info": {
   "codemirror_mode": {
    "name": "ipython",
    "version": 3
   },
   "file_extension": ".py",
   "mimetype": "text/x-python",
   "name": "python",
   "nbconvert_exporter": "python",
   "pygments_lexer": "ipython3",
   "version": "3.12.6"
  }
 },
 "nbformat": 4,
 "nbformat_minor": 5
}
